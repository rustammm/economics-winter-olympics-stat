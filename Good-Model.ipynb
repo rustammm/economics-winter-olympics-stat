{
 "cells": [
  {
   "cell_type": "code",
   "execution_count": 1,
   "metadata": {},
   "outputs": [
    {
     "name": "stdout",
     "output_type": "stream",
     "text": [
      "population\n",
      "pcgdp\n",
      "gini\n",
      "electricity\n",
      "life_exp\n"
     ]
    }
   ],
   "source": [
    "import numpy as np\n",
    "import pandas as pd\n",
    "import matplotlib.pyplot as plt\n",
    "import sklearn\n",
    "\n",
    "YEARS = set()\n",
    "\n",
    "table = dict()\n",
    "table[\"population\"]  = pd.read_csv(\"data/population.csv\")\n",
    "table[\"pcgdp\"]       = pd.read_csv(\"data/pcgdp.csv\")\n",
    "table[\"gini\"]        = pd.read_csv(\"data/gini.csv\")\n",
    "table[\"electricity\"] = pd.read_csv(\"data/electricity.csv\")\n",
    "table[\"life_exp\"]    = pd.read_csv(\"data/life_exp.csv\")\n",
    "winter_raw = pd.read_csv(\"data/winter.csv\")\n",
    "\n",
    "\n",
    "\n",
    "DROP_FROM = 1960\n",
    "DROP_TO = 1985\n",
    "years_to_drop = [str(i) for i in range(DROP_FROM, DROP_TO)]\n",
    "for key, _ in table.items():\n",
    "    print(key)\n",
    "    table[key] = table[key].drop(columns=years_to_drop+[\n",
    "        \"Country Name\", \"Indicator Name\", \"Indicator Code\",\n",
    "        \"Unnamed: 62\", \"2017\"])\n",
    "    table[key] = table[key].rename(index=str, columns={\"Country Code\":\"Country\"})"
   ]
  },
  {
   "cell_type": "code",
   "execution_count": 2,
   "metadata": {},
   "outputs": [
    {
     "name": "stdout",
     "output_type": "stream",
     "text": [
      "total country medalists 42\n"
     ]
    }
   ],
   "source": [
    "medals = dict() # by countries code => by years\n",
    "\n",
    "\n",
    "for i in range(len(winter_raw)):\n",
    "    row = dict(winter_raw.iloc[i, :])\n",
    "    ccode = row[\"Country\"]\n",
    "    year  = row[\"Year\"]\n",
    "    medal = row[\"Medal\"]\n",
    "    if int(year) < DROP_TO:\n",
    "        continue\n",
    "        \n",
    "    YEARS.add(year)\n",
    "    medals.setdefault(ccode, dict()).setdefault(year, 0)\n",
    "    medals[ccode][year] += 1\n",
    "print(\"total country medalists\", len(medals))"
   ]
  },
  {
   "cell_type": "code",
   "execution_count": 3,
   "metadata": {},
   "outputs": [],
   "source": [
    "COUNTRIES = pd.DataFrame(table[\"population\"][\"Country\"])\n",
    "def get_w_r():\n",
    "    winter = COUNTRIES\n",
    "    for i, year in enumerate(YEARS):\n",
    "        winter[year] = np.zeros(len(winter))\n",
    "        for ccode, _ in medals.items():\n",
    "            medals[ccode].setdefault(year, 0)\n",
    "            winter.loc[winter.Country==ccode, year] = medals[ccode][year]\n",
    "    return winter\n",
    "winter = get_w_r()"
   ]
  },
  {
   "cell_type": "code",
   "execution_count": 4,
   "metadata": {},
   "outputs": [],
   "source": [
    "for key, _ in table.items():\n",
    "    table[key] = table[key].sort_values(by=[\"Country\"]).drop(columns=[\"Country\"])\n",
    "    table[key] = table[key].fillna(table[key].mean()).fillna(0)\n",
    "    std = table[key][str(year)].std()\n",
    "    table[key][str(year)] = (table[key][str(year)] - table[key][str(year)].mean()) / std\n",
    "    \n",
    "winter = winter.sort_values(by=[\"Country\"]).drop(columns=[\"Country\"])\n",
    "winter = winter.fillna(winter.mean()).fillna(0)\n",
    "winter /= winter.sum(axis=0)"
   ]
  },
  {
   "cell_type": "code",
   "execution_count": 5,
   "metadata": {},
   "outputs": [],
   "source": [
    "YEARS = sorted(list(YEARS))\n",
    "X  = [] # population, pcgdp normed in year = year\n",
    "y  = [] # medals\n",
    "y2 = [] # classification, if have medals\n",
    "\n",
    "feature_names = [\"population\", \"pcgdp\", \"electricity\", \"gini\", \"life_exp\"]\n",
    "#feature_names = [\"population\", \"pcgdp\", \"life_exp\"]\n",
    "mean_year_diff = 7 # за сколько годов считается среднее\n",
    "\n",
    "def prev_year(year):\n",
    "    if YEARS.index(year):\n",
    "        return YEARS[YEARS.index(year)-1]\n",
    "    else:\n",
    "        return year - 4\n",
    "\n",
    "def split(test_year, regression=True):\n",
    "    X_train, y_train, X_test, y_test = [], [], [], []\n",
    "    y2_train, y2_test = [], []\n",
    "    for year_i, year in enumerate(YEARS):\n",
    "        start = year - mean_year_diff + 1\n",
    "        years_ = [str(i) for i in range(start, year + 1)]\n",
    "        \n",
    "        for i in range(len(winter)):    \n",
    "            if start < min(YEARS):\n",
    "                continue\n",
    "            features = []\n",
    "            for feature in feature_names:\n",
    "                a = np.array(table[feature][years_].iloc[i])\n",
    "                features.append(a.mean())\n",
    "            features.append(winter[prev_year(year)].iloc[i])\n",
    "\n",
    "            target = float(winter[year].iloc[i])\n",
    "            if not (year in test_year):\n",
    "                X_train.append(features)\n",
    "                y_train.append(target)\n",
    "                y2_train.append(target > 0)\n",
    "            else:\n",
    "                X_test.append(features)\n",
    "                y_test.append(target)\n",
    "                y2_test.append(target > 0)\n",
    "                \n",
    "    if not regression:\n",
    "        y_train, y_test = y2_train, y2_test\n",
    "        \n",
    "    return np.array(X_train), np.array(y_train), np.array(X_test), np.array(y_test)"
   ]
  },
  {
   "cell_type": "code",
   "execution_count": 6,
   "metadata": {},
   "outputs": [
    {
     "name": "stdout",
     "output_type": "stream",
     "text": [
      "1584 1584 1584\n"
     ]
    }
   ],
   "source": [
    "X, y, _, _ = split([2020], True)\n",
    "_, y2, _, _ = split([2020], False)\n",
    "print(len(X), len(y), len(y2))"
   ]
  },
  {
   "cell_type": "code",
   "execution_count": 7,
   "metadata": {},
   "outputs": [
    {
     "name": "stdout",
     "output_type": "stream",
     "text": [
      "1584\n",
      "115\n"
     ]
    }
   ],
   "source": [
    "def get_only_positive(X, y):\n",
    "    print(len(X))\n",
    "    X_, y_ = [], []\n",
    "    for i in range(len(y)):\n",
    "        if y[i] <= 0: \n",
    "            continue\n",
    "        X_.append(X[i])\n",
    "        y_.append(y[i])\n",
    "    return np.array(X_), np.array(y_)\n",
    "\n",
    "X_, y_ = get_only_positive(X, y)\n",
    "print(len(y_))\n",
    "\n",
    "def oversample(X, y):\n",
    "    print(len(X))\n",
    "    X_, y_ = [], []\n",
    "    cnt=0\n",
    "    for i in range(len(y)):\n",
    "        if y[i] <= 0: \n",
    "            cnt+=1\n",
    "        X_.append(X[i])\n",
    "        y_.append(y[i])\n",
    "    mult = len(y) // (len(y) - cnt) - 1\n",
    "    for i in range(len(y)):\n",
    "        nowm = 0\n",
    "        if y[i] >= 0: \n",
    "            nowm = mult\n",
    "        for j in range(nowm):\n",
    "            X_.append(X[i])\n",
    "            y_.append(y[i])\n",
    "    return np.array(X_), np.array(y_)\n"
   ]
  },
  {
   "cell_type": "code",
   "execution_count": 8,
   "metadata": {},
   "outputs": [],
   "source": [
    "from sklearn import datasets, linear_model, ensemble\n",
    "from sklearn.model_selection import cross_val_score"
   ]
  },
  {
   "cell_type": "code",
   "execution_count": 9,
   "metadata": {},
   "outputs": [
    {
     "name": "stdout",
     "output_type": "stream",
     "text": [
      "1320\n",
      "264\n"
     ]
    },
    {
     "data": {
      "image/png": "[encoded data removed]",
      "text/plain": [
       "<Figure size 432x288 with 1 Axes>"
      ]
     },
     "metadata": {},
     "output_type": "display_data"
    },
    {
     "name": "stdout",
     "output_type": "stream",
     "text": [
      "0.5092240087143749\n"
     ]
    }
   ],
   "source": [
    "X_train, y_train, X_test, y_test = split([2014], True)\n",
    "X_train, y_train = get_only_positive(X_train, y_train)\n",
    "X_test, y_test = get_only_positive(X_test, y_test)\n",
    "m = ensemble.GradientBoostingRegressor(n_estimators=30, max_depth=3).fit(X_train, y_train)\n",
    "y_predicted = m.predict(X_test)\n",
    "\n",
    "\n",
    "plt.scatter(y_test, y_predicted)\n",
    "plt.title('Scatter plot pythonspot.com')\n",
    "plt.xlabel('Actual')\n",
    "plt.ylabel('Predicted')\n",
    "plt.show()\n",
    "print(m.score(X_test, y_test))\n",
    "# only countries with medals"
   ]
  },
  {
   "cell_type": "code",
   "execution_count": 10,
   "metadata": {},
   "outputs": [],
   "source": [
    "from sklearn.metrics import r2_score\n",
    "\n",
    "winter_old = get_w_r()\n",
    "def year_predict(year):\n",
    "    X_train, y_train, X_test, y_test = split([year], True)\n",
    "    X_train, y_train = oversample(X_train, y_train)\n",
    "    mR = linear_model.Ridge().fit(X_train, y_train)\n",
    "\n",
    "    X_train, y_train, _, _ = split([year], False)\n",
    "    X_train, y_train = oversample(X_train, y_train)\n",
    "\n",
    "    m = ensemble.RandomForestClassifier().fit(X_train, y_train)\n",
    "    y_predicted = m.predict_proba(X_test)\n",
    "\n",
    "\n",
    "    THRESHOLD = 0.40\n",
    "    y_pred = np.zeros(len(y_predicted))\n",
    "    for i in range(len(y_predicted)):\n",
    "        y_pred[i] = float(y_predicted[i][1] > THRESHOLD)\n",
    "        if y_pred[i] > 0:\n",
    "            y_pred[i] = mR.predict([X_test[i]])[0]\n",
    "\n",
    "    sum_mult = float(winter_old[year].sum())\n",
    "    plt.scatter(y_test*sum_mult, y_pred*sum_mult, alpha=0.3)\n",
    "    plt.title('Scatter plot '  + str(year))\n",
    "    plt.xlabel('Actual')\n",
    "    plt.ylabel('Predicted')\n",
    "    plt.show()\n",
    "    print(r2_score(y_test, y_pred))"
   ]
  },
  {
   "cell_type": "code",
   "execution_count": 11,
   "metadata": {},
   "outputs": [
    {
     "name": "stdout",
     "output_type": "stream",
     "text": [
      "1320\n"
     ]
    },
    {
     "name": "stderr",
     "output_type": "stream",
     "text": [
      "/usr/local/lib/python3.6/site-packages/scipy/linalg/basic.py:40: RuntimeWarning: scipy.linalg.solve\n",
      "Ill-conditioned matrix detected. Result is not guaranteed to be accurate.\n",
      "Reciprocal condition number/precision: 7.386636459661286e-22 / 1.1102230246251565e-16\n",
      "  RuntimeWarning)\n"
     ]
    },
    {
     "name": "stdout",
     "output_type": "stream",
     "text": [
      "1320\n"
     ]
    },
    {
     "data": {
      "image/png": "[encoded data removed]",
      "text/plain": [
       "<Figure size 432x288 with 1 Axes>"
      ]
     },
     "metadata": {},
     "output_type": "display_data"
    },
    {
     "name": "stdout",
     "output_type": "stream",
     "text": [
      "0.764352951583432\n"
     ]
    }
   ],
   "source": [
    "year_predict([2006])"
   ]
  },
  {
   "cell_type": "code",
   "execution_count": 12,
   "metadata": {},
   "outputs": [
    {
     "name": "stdout",
     "output_type": "stream",
     "text": [
      "1320\n"
     ]
    },
    {
     "name": "stderr",
     "output_type": "stream",
     "text": [
      "/usr/local/lib/python3.6/site-packages/scipy/linalg/basic.py:40: RuntimeWarning: scipy.linalg.solve\n",
      "Ill-conditioned matrix detected. Result is not guaranteed to be accurate.\n",
      "Reciprocal condition number/precision: 7.92176979877009e-22 / 1.1102230246251565e-16\n",
      "  RuntimeWarning)\n"
     ]
    },
    {
     "name": "stdout",
     "output_type": "stream",
     "text": [
      "1320\n"
     ]
    },
    {
     "data": {
      "image/png": "[encoded data removed]",
      "text/plain": [
       "<Figure size 432x288 with 1 Axes>"
      ]
     },
     "metadata": {},
     "output_type": "display_data"
    },
    {
     "name": "stdout",
     "output_type": "stream",
     "text": [
      "0.6984321704883429\n"
     ]
    }
   ],
   "source": [
    "year_predict([2010])"
   ]
  },
  {
   "cell_type": "code",
   "execution_count": 13,
   "metadata": {},
   "outputs": [
    {
     "name": "stdout",
     "output_type": "stream",
     "text": [
      "1320\n"
     ]
    },
    {
     "name": "stderr",
     "output_type": "stream",
     "text": [
      "/usr/local/lib/python3.6/site-packages/scipy/linalg/basic.py:40: RuntimeWarning: scipy.linalg.solve\n",
      "Ill-conditioned matrix detected. Result is not guaranteed to be accurate.\n",
      "Reciprocal condition number/precision: 7.223707564464393e-22 / 1.1102230246251565e-16\n",
      "  RuntimeWarning)\n"
     ]
    },
    {
     "name": "stdout",
     "output_type": "stream",
     "text": [
      "1320\n"
     ]
    },
    {
     "data": {
      "image/png": "[encoded data removed]",
      "text/plain": [
       "<Figure size 432x288 with 1 Axes>"
      ]
     },
     "metadata": {},
     "output_type": "display_data"
    },
    {
     "name": "stdout",
     "output_type": "stream",
     "text": [
      "0.8085104783023883\n"
     ]
    }
   ],
   "source": [
    "year_predict([2014])"
   ]
  },
  {
   "cell_type": "code",
   "execution_count": null,
   "metadata": {},
   "outputs": [],
   "source": [
    "\n"
   ]
  },
  {
   "cell_type": "code",
   "execution_count": null,
   "metadata": {},
   "outputs": [],
   "source": []
  }
 ],
 "metadata": {
  "kernelspec": {
   "display_name": "Python 3",
   "language": "python",
   "name": "python3"
  },
  "language_info": {
   "codemirror_mode": {
    "name": "ipython",
    "version": 3
   },
   "file_extension": ".py",
   "mimetype": "text/x-python",
   "name": "python",
   "nbconvert_exporter": "python",
   "pygments_lexer": "ipython3",
   "version": "3.6.5"
  }
 },
 "nbformat": 4,
 "nbformat_minor": 2
}
