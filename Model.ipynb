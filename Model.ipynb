{
 "cells": [
  {
   "cell_type": "code",
   "execution_count": 1,
   "metadata": {},
   "outputs": [
    {
     "name": "stdout",
     "output_type": "stream",
     "text": [
      "population\n",
      "pcgdp\n",
      "gini\n",
      "electricity\n",
      "life_exp\n"
     ]
    }
   ],
   "source": [
    "import numpy as np\n",
    "import pandas as pd\n",
    "import matplotlib.pyplot as plt\n",
    "import sklearn\n",
    "\n",
    "YEARS = set()\n",
    "\n",
    "table = dict()\n",
    "table[\"population\"]  = pd.read_csv(\"data/population.csv\")\n",
    "table[\"pcgdp\"]       = pd.read_csv(\"data/pcgdp.csv\")\n",
    "table[\"gini\"]        = pd.read_csv(\"data/gini.csv\")\n",
    "table[\"electricity\"] = pd.read_csv(\"data/electricity.csv\")\n",
    "table[\"life_exp\"]    = pd.read_csv(\"data/life_exp.csv\")\n",
    "winter_raw = pd.read_csv(\"data/winter.csv\")\n",
    "\n",
    "\n",
    "\n",
    "DROP_FROM = 1960\n",
    "DROP_TO = 1985\n",
    "years_to_drop = [str(i) for i in range(DROP_FROM, DROP_TO)]\n",
    "for key, _ in table.items():\n",
    "    print(key)\n",
    "    table[key] = table[key].drop(columns=years_to_drop+[\n",
    "        \"Country Name\", \"Indicator Name\", \"Indicator Code\",\n",
    "        \"Unnamed: 62\", \"2017\"])\n",
    "    table[key] = table[key].rename(index=str, columns={\"Country Code\":\"Country\"})"
   ]
  },
  {
   "cell_type": "code",
   "execution_count": 2,
   "metadata": {},
   "outputs": [
    {
     "data": {
      "text/html": [
       "<div>\n",
       "<style scoped>\n",
       "    .dataframe tbody tr th:only-of-type {\n",
       "        vertical-align: middle;\n",
       "    }\n",
       "\n",
       "    .dataframe tbody tr th {\n",
       "        vertical-align: top;\n",
       "    }\n",
       "\n",
       "    .dataframe thead th {\n",
       "        text-align: right;\n",
       "    }\n",
       "</style>\n",
       "<table border=\"1\" class=\"dataframe\">\n",
       "  <thead>\n",
       "    <tr style=\"text-align: right;\">\n",
       "      <th></th>\n",
       "      <th>Country</th>\n",
       "      <th>1985</th>\n",
       "      <th>1986</th>\n",
       "      <th>1987</th>\n",
       "      <th>1988</th>\n",
       "      <th>1989</th>\n",
       "      <th>1990</th>\n",
       "      <th>1991</th>\n",
       "      <th>1992</th>\n",
       "      <th>1993</th>\n",
       "      <th>...</th>\n",
       "      <th>2007</th>\n",
       "      <th>2008</th>\n",
       "      <th>2009</th>\n",
       "      <th>2010</th>\n",
       "      <th>2011</th>\n",
       "      <th>2012</th>\n",
       "      <th>2013</th>\n",
       "      <th>2014</th>\n",
       "      <th>2015</th>\n",
       "      <th>2016</th>\n",
       "    </tr>\n",
       "  </thead>\n",
       "  <tbody>\n",
       "    <tr>\n",
       "      <th>0</th>\n",
       "      <td>ABW</td>\n",
       "      <td>63026.0</td>\n",
       "      <td>62644.0</td>\n",
       "      <td>61833.0</td>\n",
       "      <td>61079.0</td>\n",
       "      <td>61032.0</td>\n",
       "      <td>62149.0</td>\n",
       "      <td>64622.0</td>\n",
       "      <td>68235.0</td>\n",
       "      <td>72504.0</td>\n",
       "      <td>...</td>\n",
       "      <td>101220.0</td>\n",
       "      <td>101353.0</td>\n",
       "      <td>101453.0</td>\n",
       "      <td>101669.0</td>\n",
       "      <td>102053.0</td>\n",
       "      <td>102577.0</td>\n",
       "      <td>103187.0</td>\n",
       "      <td>103795.0</td>\n",
       "      <td>104341.0</td>\n",
       "      <td>104822.0</td>\n",
       "    </tr>\n",
       "    <tr>\n",
       "      <th>1</th>\n",
       "      <td>AFG</td>\n",
       "      <td>11783050.0</td>\n",
       "      <td>11601041.0</td>\n",
       "      <td>11502761.0</td>\n",
       "      <td>11540888.0</td>\n",
       "      <td>11777609.0</td>\n",
       "      <td>12249114.0</td>\n",
       "      <td>12993657.0</td>\n",
       "      <td>13981231.0</td>\n",
       "      <td>15095099.0</td>\n",
       "      <td>...</td>\n",
       "      <td>26616792.0</td>\n",
       "      <td>27294031.0</td>\n",
       "      <td>28004331.0</td>\n",
       "      <td>28803167.0</td>\n",
       "      <td>29708599.0</td>\n",
       "      <td>30696958.0</td>\n",
       "      <td>31731688.0</td>\n",
       "      <td>32758020.0</td>\n",
       "      <td>33736494.0</td>\n",
       "      <td>34656032.0</td>\n",
       "    </tr>\n",
       "    <tr>\n",
       "      <th>2</th>\n",
       "      <td>AGO</td>\n",
       "      <td>10609042.0</td>\n",
       "      <td>10921037.0</td>\n",
       "      <td>11218268.0</td>\n",
       "      <td>11513968.0</td>\n",
       "      <td>11827237.0</td>\n",
       "      <td>12171441.0</td>\n",
       "      <td>12553446.0</td>\n",
       "      <td>12968345.0</td>\n",
       "      <td>13403734.0</td>\n",
       "      <td>...</td>\n",
       "      <td>20997687.0</td>\n",
       "      <td>21759420.0</td>\n",
       "      <td>22549547.0</td>\n",
       "      <td>23369131.0</td>\n",
       "      <td>24218565.0</td>\n",
       "      <td>25096150.0</td>\n",
       "      <td>25998340.0</td>\n",
       "      <td>26920466.0</td>\n",
       "      <td>27859305.0</td>\n",
       "      <td>28813463.0</td>\n",
       "    </tr>\n",
       "  </tbody>\n",
       "</table>\n",
       "<p>3 rows × 33 columns</p>\n",
       "</div>"
      ],
      "text/plain": [
       "  Country        1985        1986        1987        1988        1989  \\\n",
       "0     ABW     63026.0     62644.0     61833.0     61079.0     61032.0   \n",
       "1     AFG  11783050.0  11601041.0  11502761.0  11540888.0  11777609.0   \n",
       "2     AGO  10609042.0  10921037.0  11218268.0  11513968.0  11827237.0   \n",
       "\n",
       "         1990        1991        1992        1993     ...            2007  \\\n",
       "0     62149.0     64622.0     68235.0     72504.0     ...        101220.0   \n",
       "1  12249114.0  12993657.0  13981231.0  15095099.0     ...      26616792.0   \n",
       "2  12171441.0  12553446.0  12968345.0  13403734.0     ...      20997687.0   \n",
       "\n",
       "         2008        2009        2010        2011        2012        2013  \\\n",
       "0    101353.0    101453.0    101669.0    102053.0    102577.0    103187.0   \n",
       "1  27294031.0  28004331.0  28803167.0  29708599.0  30696958.0  31731688.0   \n",
       "2  21759420.0  22549547.0  23369131.0  24218565.0  25096150.0  25998340.0   \n",
       "\n",
       "         2014        2015        2016  \n",
       "0    103795.0    104341.0    104822.0  \n",
       "1  32758020.0  33736494.0  34656032.0  \n",
       "2  26920466.0  27859305.0  28813463.0  \n",
       "\n",
       "[3 rows x 33 columns]"
      ]
     },
     "execution_count": 2,
     "metadata": {},
     "output_type": "execute_result"
    }
   ],
   "source": [
    "table[\"population\"].head(3)"
   ]
  },
  {
   "cell_type": "code",
   "execution_count": 3,
   "metadata": {},
   "outputs": [
    {
     "ename": "KeyboardInterrupt",
     "evalue": "",
     "output_type": "error",
     "traceback": [
      "\u001b[0;31m---------------------------------------------------------------------------\u001b[0m",
      "\u001b[0;31mKeyboardInterrupt\u001b[0m                         Traceback (most recent call last)",
      "\u001b[0;32m<ipython-input-3-6e35104445a4>\u001b[0m in \u001b[0;36m<module>\u001b[0;34m()\u001b[0m\n\u001b[0;32m----> 1\u001b[0;31m \u001b[0mtable\u001b[0m\u001b[0;34m[\u001b[0m\u001b[0;34m\"population\"\u001b[0m\u001b[0;34m]\u001b[0m\u001b[0;34m.\u001b[0m\u001b[0mdescribe\u001b[0m\u001b[0;34m(\u001b[0m\u001b[0;34m)\u001b[0m\u001b[0;34m\u001b[0m\u001b[0m\n\u001b[0m",
      "\u001b[0;32m/usr/local/lib/python3.6/site-packages/pandas/core/generic.py\u001b[0m in \u001b[0;36mdescribe\u001b[0;34m(self, percentiles, include, exclude)\u001b[0m\n\u001b[1;32m   6825\u001b[0m             \u001b[0mdata\u001b[0m \u001b[0;34m=\u001b[0m \u001b[0mself\u001b[0m\u001b[0;34m.\u001b[0m\u001b[0mselect_dtypes\u001b[0m\u001b[0;34m(\u001b[0m\u001b[0minclude\u001b[0m\u001b[0;34m=\u001b[0m\u001b[0minclude\u001b[0m\u001b[0;34m,\u001b[0m \u001b[0mexclude\u001b[0m\u001b[0;34m=\u001b[0m\u001b[0mexclude\u001b[0m\u001b[0;34m)\u001b[0m\u001b[0;34m\u001b[0m\u001b[0m\n\u001b[1;32m   6826\u001b[0m \u001b[0;34m\u001b[0m\u001b[0m\n\u001b[0;32m-> 6827\u001b[0;31m         \u001b[0mldesc\u001b[0m \u001b[0;34m=\u001b[0m \u001b[0;34m[\u001b[0m\u001b[0mdescribe_1d\u001b[0m\u001b[0;34m(\u001b[0m\u001b[0ms\u001b[0m\u001b[0;34m)\u001b[0m \u001b[0;32mfor\u001b[0m \u001b[0m_\u001b[0m\u001b[0;34m,\u001b[0m \u001b[0ms\u001b[0m \u001b[0;32min\u001b[0m \u001b[0mdata\u001b[0m\u001b[0;34m.\u001b[0m\u001b[0miteritems\u001b[0m\u001b[0;34m(\u001b[0m\u001b[0;34m)\u001b[0m\u001b[0;34m]\u001b[0m\u001b[0;34m\u001b[0m\u001b[0m\n\u001b[0m\u001b[1;32m   6828\u001b[0m         \u001b[0;31m# set a convenient order for rows\u001b[0m\u001b[0;34m\u001b[0m\u001b[0;34m\u001b[0m\u001b[0m\n\u001b[1;32m   6829\u001b[0m         \u001b[0mnames\u001b[0m \u001b[0;34m=\u001b[0m \u001b[0;34m[\u001b[0m\u001b[0;34m]\u001b[0m\u001b[0;34m\u001b[0m\u001b[0m\n",
      "\u001b[0;32m/usr/local/lib/python3.6/site-packages/pandas/core/generic.py\u001b[0m in \u001b[0;36m<listcomp>\u001b[0;34m(.0)\u001b[0m\n\u001b[1;32m   6825\u001b[0m             \u001b[0mdata\u001b[0m \u001b[0;34m=\u001b[0m \u001b[0mself\u001b[0m\u001b[0;34m.\u001b[0m\u001b[0mselect_dtypes\u001b[0m\u001b[0;34m(\u001b[0m\u001b[0minclude\u001b[0m\u001b[0;34m=\u001b[0m\u001b[0minclude\u001b[0m\u001b[0;34m,\u001b[0m \u001b[0mexclude\u001b[0m\u001b[0;34m=\u001b[0m\u001b[0mexclude\u001b[0m\u001b[0;34m)\u001b[0m\u001b[0;34m\u001b[0m\u001b[0m\n\u001b[1;32m   6826\u001b[0m \u001b[0;34m\u001b[0m\u001b[0m\n\u001b[0;32m-> 6827\u001b[0;31m         \u001b[0mldesc\u001b[0m \u001b[0;34m=\u001b[0m \u001b[0;34m[\u001b[0m\u001b[0mdescribe_1d\u001b[0m\u001b[0;34m(\u001b[0m\u001b[0ms\u001b[0m\u001b[0;34m)\u001b[0m \u001b[0;32mfor\u001b[0m \u001b[0m_\u001b[0m\u001b[0;34m,\u001b[0m \u001b[0ms\u001b[0m \u001b[0;32min\u001b[0m \u001b[0mdata\u001b[0m\u001b[0;34m.\u001b[0m\u001b[0miteritems\u001b[0m\u001b[0;34m(\u001b[0m\u001b[0;34m)\u001b[0m\u001b[0;34m]\u001b[0m\u001b[0;34m\u001b[0m\u001b[0m\n\u001b[0m\u001b[1;32m   6828\u001b[0m         \u001b[0;31m# set a convenient order for rows\u001b[0m\u001b[0;34m\u001b[0m\u001b[0;34m\u001b[0m\u001b[0m\n\u001b[1;32m   6829\u001b[0m         \u001b[0mnames\u001b[0m \u001b[0;34m=\u001b[0m \u001b[0;34m[\u001b[0m\u001b[0;34m]\u001b[0m\u001b[0;34m\u001b[0m\u001b[0m\n",
      "\u001b[0;32m/usr/local/lib/python3.6/site-packages/pandas/core/generic.py\u001b[0m in \u001b[0;36mdescribe_1d\u001b[0;34m(data)\u001b[0m\n\u001b[1;32m   6804\u001b[0m                 \u001b[0;32mreturn\u001b[0m \u001b[0mdescribe_categorical_1d\u001b[0m\u001b[0;34m(\u001b[0m\u001b[0mdata\u001b[0m\u001b[0;34m)\u001b[0m\u001b[0;34m\u001b[0m\u001b[0m\n\u001b[1;32m   6805\u001b[0m             \u001b[0;32melif\u001b[0m \u001b[0mis_numeric_dtype\u001b[0m\u001b[0;34m(\u001b[0m\u001b[0mdata\u001b[0m\u001b[0;34m)\u001b[0m\u001b[0;34m:\u001b[0m\u001b[0;34m\u001b[0m\u001b[0m\n\u001b[0;32m-> 6806\u001b[0;31m                 \u001b[0;32mreturn\u001b[0m \u001b[0mdescribe_numeric_1d\u001b[0m\u001b[0;34m(\u001b[0m\u001b[0mdata\u001b[0m\u001b[0;34m)\u001b[0m\u001b[0;34m\u001b[0m\u001b[0m\n\u001b[0m\u001b[1;32m   6807\u001b[0m             \u001b[0;32melif\u001b[0m \u001b[0mis_timedelta64_dtype\u001b[0m\u001b[0;34m(\u001b[0m\u001b[0mdata\u001b[0m\u001b[0;34m)\u001b[0m\u001b[0;34m:\u001b[0m\u001b[0;34m\u001b[0m\u001b[0m\n\u001b[1;32m   6808\u001b[0m                 \u001b[0;32mreturn\u001b[0m \u001b[0mdescribe_numeric_1d\u001b[0m\u001b[0;34m(\u001b[0m\u001b[0mdata\u001b[0m\u001b[0;34m)\u001b[0m\u001b[0;34m\u001b[0m\u001b[0m\n",
      "\u001b[0;32m/usr/local/lib/python3.6/site-packages/pandas/core/generic.py\u001b[0m in \u001b[0;36mdescribe_numeric_1d\u001b[0;34m(series)\u001b[0m\n\u001b[1;32m   6778\u001b[0m             d = ([series.count(), series.mean(), series.std(), series.min()] +\n\u001b[1;32m   6779\u001b[0m                  [series.quantile(x) for x in percentiles] + [series.max()])\n\u001b[0;32m-> 6780\u001b[0;31m             \u001b[0;32mreturn\u001b[0m \u001b[0mpd\u001b[0m\u001b[0;34m.\u001b[0m\u001b[0mSeries\u001b[0m\u001b[0;34m(\u001b[0m\u001b[0md\u001b[0m\u001b[0;34m,\u001b[0m \u001b[0mindex\u001b[0m\u001b[0;34m=\u001b[0m\u001b[0mstat_index\u001b[0m\u001b[0;34m,\u001b[0m \u001b[0mname\u001b[0m\u001b[0;34m=\u001b[0m\u001b[0mseries\u001b[0m\u001b[0;34m.\u001b[0m\u001b[0mname\u001b[0m\u001b[0;34m)\u001b[0m\u001b[0;34m\u001b[0m\u001b[0m\n\u001b[0m\u001b[1;32m   6781\u001b[0m \u001b[0;34m\u001b[0m\u001b[0m\n\u001b[1;32m   6782\u001b[0m         \u001b[0;32mdef\u001b[0m \u001b[0mdescribe_categorical_1d\u001b[0m\u001b[0;34m(\u001b[0m\u001b[0mdata\u001b[0m\u001b[0;34m)\u001b[0m\u001b[0;34m:\u001b[0m\u001b[0;34m\u001b[0m\u001b[0m\n",
      "\u001b[0;32m/usr/local/lib/python3.6/site-packages/pandas/core/series.py\u001b[0m in \u001b[0;36m__init__\u001b[0;34m(self, data, index, dtype, name, copy, fastpath)\u001b[0m\n\u001b[1;32m    264\u001b[0m                                        raise_cast_failure=True)\n\u001b[1;32m    265\u001b[0m \u001b[0;34m\u001b[0m\u001b[0m\n\u001b[0;32m--> 266\u001b[0;31m                 \u001b[0mdata\u001b[0m \u001b[0;34m=\u001b[0m \u001b[0mSingleBlockManager\u001b[0m\u001b[0;34m(\u001b[0m\u001b[0mdata\u001b[0m\u001b[0;34m,\u001b[0m \u001b[0mindex\u001b[0m\u001b[0;34m,\u001b[0m \u001b[0mfastpath\u001b[0m\u001b[0;34m=\u001b[0m\u001b[0;32mTrue\u001b[0m\u001b[0;34m)\u001b[0m\u001b[0;34m\u001b[0m\u001b[0m\n\u001b[0m\u001b[1;32m    267\u001b[0m \u001b[0;34m\u001b[0m\u001b[0m\n\u001b[1;32m    268\u001b[0m         \u001b[0mgeneric\u001b[0m\u001b[0;34m.\u001b[0m\u001b[0mNDFrame\u001b[0m\u001b[0;34m.\u001b[0m\u001b[0m__init__\u001b[0m\u001b[0;34m(\u001b[0m\u001b[0mself\u001b[0m\u001b[0;34m,\u001b[0m \u001b[0mdata\u001b[0m\u001b[0;34m,\u001b[0m \u001b[0mfastpath\u001b[0m\u001b[0;34m=\u001b[0m\u001b[0;32mTrue\u001b[0m\u001b[0;34m)\u001b[0m\u001b[0;34m\u001b[0m\u001b[0m\n",
      "\u001b[0;32m/usr/local/lib/python3.6/site-packages/pandas/core/internals.py\u001b[0m in \u001b[0;36m__init__\u001b[0;34m(self, block, axis, do_integrity_check, fastpath)\u001b[0m\n\u001b[1;32m   4400\u001b[0m         \u001b[0;32mif\u001b[0m \u001b[0;32mnot\u001b[0m \u001b[0misinstance\u001b[0m\u001b[0;34m(\u001b[0m\u001b[0mblock\u001b[0m\u001b[0;34m,\u001b[0m \u001b[0mBlock\u001b[0m\u001b[0;34m)\u001b[0m\u001b[0;34m:\u001b[0m\u001b[0;34m\u001b[0m\u001b[0m\n\u001b[1;32m   4401\u001b[0m             block = make_block(block, placement=slice(0, len(axis)), ndim=1,\n\u001b[0;32m-> 4402\u001b[0;31m                                fastpath=True)\n\u001b[0m\u001b[1;32m   4403\u001b[0m \u001b[0;34m\u001b[0m\u001b[0m\n\u001b[1;32m   4404\u001b[0m         \u001b[0mself\u001b[0m\u001b[0;34m.\u001b[0m\u001b[0mblocks\u001b[0m \u001b[0;34m=\u001b[0m \u001b[0;34m[\u001b[0m\u001b[0mblock\u001b[0m\u001b[0;34m]\u001b[0m\u001b[0;34m\u001b[0m\u001b[0m\n",
      "\u001b[0;32m/usr/local/lib/python3.6/site-packages/pandas/core/internals.py\u001b[0m in \u001b[0;36mmake_block\u001b[0;34m(values, placement, klass, ndim, dtype, fastpath)\u001b[0m\n\u001b[1;32m   2955\u001b[0m                      placement=placement, dtype=dtype)\n\u001b[1;32m   2956\u001b[0m \u001b[0;34m\u001b[0m\u001b[0m\n\u001b[0;32m-> 2957\u001b[0;31m     \u001b[0;32mreturn\u001b[0m \u001b[0mklass\u001b[0m\u001b[0;34m(\u001b[0m\u001b[0mvalues\u001b[0m\u001b[0;34m,\u001b[0m \u001b[0mndim\u001b[0m\u001b[0;34m=\u001b[0m\u001b[0mndim\u001b[0m\u001b[0;34m,\u001b[0m \u001b[0mfastpath\u001b[0m\u001b[0;34m=\u001b[0m\u001b[0mfastpath\u001b[0m\u001b[0;34m,\u001b[0m \u001b[0mplacement\u001b[0m\u001b[0;34m=\u001b[0m\u001b[0mplacement\u001b[0m\u001b[0;34m)\u001b[0m\u001b[0;34m\u001b[0m\u001b[0m\n\u001b[0m\u001b[1;32m   2958\u001b[0m \u001b[0;34m\u001b[0m\u001b[0m\n\u001b[1;32m   2959\u001b[0m \u001b[0;31m# TODO: flexible with index=None and/or items=None\u001b[0m\u001b[0;34m\u001b[0m\u001b[0;34m\u001b[0m\u001b[0m\n",
      "\u001b[0;32m/usr/local/lib/python3.6/site-packages/pandas/core/internals.py\u001b[0m in \u001b[0;36m__init__\u001b[0;34m(self, values, placement, ndim, fastpath)\u001b[0m\n\u001b[1;32m    105\u001b[0m     \u001b[0m_concatenator\u001b[0m \u001b[0;34m=\u001b[0m \u001b[0mstaticmethod\u001b[0m\u001b[0;34m(\u001b[0m\u001b[0mnp\u001b[0m\u001b[0;34m.\u001b[0m\u001b[0mconcatenate\u001b[0m\u001b[0;34m)\u001b[0m\u001b[0;34m\u001b[0m\u001b[0m\n\u001b[1;32m    106\u001b[0m \u001b[0;34m\u001b[0m\u001b[0m\n\u001b[0;32m--> 107\u001b[0;31m     \u001b[0;32mdef\u001b[0m \u001b[0m__init__\u001b[0m\u001b[0;34m(\u001b[0m\u001b[0mself\u001b[0m\u001b[0;34m,\u001b[0m \u001b[0mvalues\u001b[0m\u001b[0;34m,\u001b[0m \u001b[0mplacement\u001b[0m\u001b[0;34m,\u001b[0m \u001b[0mndim\u001b[0m\u001b[0;34m=\u001b[0m\u001b[0;32mNone\u001b[0m\u001b[0;34m,\u001b[0m \u001b[0mfastpath\u001b[0m\u001b[0;34m=\u001b[0m\u001b[0;32mFalse\u001b[0m\u001b[0;34m)\u001b[0m\u001b[0;34m:\u001b[0m\u001b[0;34m\u001b[0m\u001b[0m\n\u001b[0m\u001b[1;32m    108\u001b[0m         \u001b[0;32mif\u001b[0m \u001b[0mndim\u001b[0m \u001b[0;32mis\u001b[0m \u001b[0;32mNone\u001b[0m\u001b[0;34m:\u001b[0m\u001b[0;34m\u001b[0m\u001b[0m\n\u001b[1;32m    109\u001b[0m             \u001b[0mndim\u001b[0m \u001b[0;34m=\u001b[0m \u001b[0mvalues\u001b[0m\u001b[0;34m.\u001b[0m\u001b[0mndim\u001b[0m\u001b[0;34m\u001b[0m\u001b[0m\n",
      "\u001b[0;31mKeyboardInterrupt\u001b[0m: "
     ]
    }
   ],
   "source": [
    "table[\"population\"].describe()"
   ]
  },
  {
   "cell_type": "code",
   "execution_count": null,
   "metadata": {},
   "outputs": [],
   "source": [
    "table[\"pcgdp\"].head(3)"
   ]
  },
  {
   "cell_type": "code",
   "execution_count": null,
   "metadata": {},
   "outputs": [],
   "source": [
    "table[\"pcgdp\"].describe()"
   ]
  },
  {
   "cell_type": "code",
   "execution_count": null,
   "metadata": {},
   "outputs": [],
   "source": [
    "table[\"electricity\"].head(3)"
   ]
  },
  {
   "cell_type": "code",
   "execution_count": null,
   "metadata": {},
   "outputs": [],
   "source": [
    "table[\"electricity\"].describe()"
   ]
  },
  {
   "cell_type": "code",
   "execution_count": null,
   "metadata": {},
   "outputs": [],
   "source": []
  },
  {
   "cell_type": "code",
   "execution_count": null,
   "metadata": {},
   "outputs": [],
   "source": [
    "winter_raw.head(5)"
   ]
  },
  {
   "cell_type": "code",
   "execution_count": null,
   "metadata": {},
   "outputs": [],
   "source": [
    "medals = dict() # by countries code => by years\n",
    "\n",
    "\n",
    "for i in range(len(winter_raw)):\n",
    "    row = dict(winter_raw.iloc[i, :])\n",
    "    ccode = row[\"Country\"]\n",
    "    year  = row[\"Year\"]\n",
    "    medal = row[\"Medal\"]\n",
    "    if int(year) < DROP_TO:\n",
    "        continue\n",
    "        \n",
    "    YEARS.add(year)\n",
    "    medals.setdefault(ccode, dict()).setdefault(year, 0)\n",
    "    medals[ccode][year] += 1\n",
    "print(\"total country medalists\", len(medals))"
   ]
  },
  {
   "cell_type": "code",
   "execution_count": null,
   "metadata": {},
   "outputs": [],
   "source": [
    "COUNTRIES = pd.DataFrame(table[\"population\"][\"Country\"])\n",
    "def get_w_r():\n",
    "    winter = COUNTRIES\n",
    "    for i, year in enumerate(YEARS):\n",
    "        winter[year] = np.zeros(len(winter))\n",
    "        for ccode, _ in medals.items():\n",
    "            medals[ccode].setdefault(year, 0)\n",
    "            winter.loc[winter.Country==ccode, year] = medals[ccode][year]\n",
    "    return winter\n",
    "winter = get_w_r()"
   ]
  },
  {
   "cell_type": "code",
   "execution_count": null,
   "metadata": {},
   "outputs": [],
   "source": [
    "winter.head(5)\n",
    "a = []\n",
    "for i in range(len(winter)):\n",
    "    row = winter.iloc[i]\n",
    "    if row.drop(columns=\"Country\").all():\n",
    "        print(row.Country)"
   ]
  },
  {
   "cell_type": "code",
   "execution_count": null,
   "metadata": {},
   "outputs": [],
   "source": [
    "winter.loc[winter.Country==\"RUS\"]"
   ]
  },
  {
   "cell_type": "code",
   "execution_count": null,
   "metadata": {},
   "outputs": [],
   "source": []
  },
  {
   "cell_type": "code",
   "execution_count": null,
   "metadata": {},
   "outputs": [],
   "source": [
    "for key, _ in table.items():\n",
    "    table[key] = table[key].sort_values(by=[\"Country\"]).drop(columns=[\"Country\"])\n",
    "    table[key] = table[key].fillna(table[key].mean()).fillna(0)\n",
    "    std = table[key][str(year)].std()\n",
    "    table[key][str(year)] = (table[key][str(year)] - table[key][str(year)].mean()) / std\n",
    "    #table[key] /= table[key].max() - table[key].min()\n",
    "    \n",
    "winter = winter.sort_values(by=[\"Country\"]).drop(columns=[\"Country\"])\n",
    "winter = winter.fillna(winter.mean()).fillna(0)\n",
    "#std = winter[year].std()\n",
    "#winter[year] = (winter[year] - winter[year].mean()) / std\n",
    "#winter /= winter.max() - winter.min()\n",
    "winter /= winter.sum(axis=0)"
   ]
  },
  {
   "cell_type": "code",
   "execution_count": null,
   "metadata": {},
   "outputs": [],
   "source": [
    "winter.head(5)"
   ]
  },
  {
   "cell_type": "code",
   "execution_count": null,
   "metadata": {},
   "outputs": [],
   "source": [
    "winter.iloc[0]\n",
    "for key, val in table.items():\n",
    "    table[key].to_csv(key+\"_edited.csv\")\n",
    "YEARS = sorted(list(YEARS))"
   ]
  },
  {
   "cell_type": "code",
   "execution_count": null,
   "metadata": {},
   "outputs": [],
   "source": [
    "X  = [] # population, pcgdp normed in year = year\n",
    "y  = [] # medals\n",
    "y2 = [] # classification, if have medals\n",
    "\n",
    "feature_names = [\"population\", \"pcgdp\", \"electricity\", \"gini\", \"life_exp\"]\n",
    "#feature_names = [\"population\", \"pcgdp\", \"life_exp\"]\n",
    "mean_year_diff = 7\n",
    "\n",
    "def prev_year(year):\n",
    "    if YEARS.index(year):\n",
    "        return YEARS[YEARS.index(year)-1]\n",
    "    else:\n",
    "        return year - 4\n",
    "\n",
    "def split(test_year, regression=True):\n",
    "    X_train, y_train, X_test, y_test = [], [], [], []\n",
    "    y2_train, y2_test = [], []\n",
    "    for year_i, year in enumerate(YEARS):\n",
    "        start = year - mean_year_diff + 1\n",
    "        years_ = [str(i) for i in range(start, year + 1)]\n",
    "        \n",
    "        for i in range(len(winter)):    \n",
    "            if start < min(YEARS):\n",
    "                continue\n",
    "            features = []\n",
    "            for feature in feature_names:\n",
    "                a = np.array(table[feature][years_].iloc[i])\n",
    "                features.append(a.mean())\n",
    "            features.append(winter[prev_year(year)].iloc[i])\n",
    "\n",
    "            target = float(winter[year].iloc[i])\n",
    "            if not (year in test_year):\n",
    "                X_train.append(features)\n",
    "                y_train.append(target)\n",
    "                y2_train.append(target > 0)\n",
    "            else:\n",
    "                X_test.append(features)\n",
    "                y_test.append(target)\n",
    "                y2_test.append(target > 0)\n",
    "                \n",
    "    if not regression:\n",
    "        y_train, y_test = y2_train, y2_test\n",
    "        \n",
    "    return np.array(X_train), np.array(y_train), np.array(X_test), np.array(y_test)"
   ]
  },
  {
   "cell_type": "code",
   "execution_count": null,
   "metadata": {},
   "outputs": [],
   "source": [
    "X, y, _, _ = split([2020], True)\n",
    "_, y2, _, _ = split([2020], False)\n",
    "print(len(X), len(y), len(y2))"
   ]
  },
  {
   "cell_type": "code",
   "execution_count": null,
   "metadata": {},
   "outputs": [],
   "source": [
    "def get_only_positive(X, y):\n",
    "    print(len(X))\n",
    "    X_, y_ = [], []\n",
    "    for i in range(len(y)):\n",
    "        if y[i] <= 0: \n",
    "            continue\n",
    "        X_.append(X[i])\n",
    "        y_.append(y[i])\n",
    "    return np.array(X_), np.array(y_)\n",
    "\n",
    "X_, y_ = get_only_positive(X, y)\n",
    "print(len(y_))\n",
    "\n",
    "def oversample(X, y):\n",
    "    print(len(X))\n",
    "    X_, y_ = [], []\n",
    "    cnt=0\n",
    "    for i in range(len(y)):\n",
    "        if y[i] <= 0: \n",
    "            cnt+=1\n",
    "        X_.append(X[i])\n",
    "        y_.append(y[i])\n",
    "    mult = len(y) // (len(y) - cnt) - 1\n",
    "    for i in range(len(y)):\n",
    "        nowm = 0\n",
    "        if y[i] >= 0: \n",
    "            nowm = mult\n",
    "        for j in range(nowm):\n",
    "            X_.append(X[i])\n",
    "            y_.append(y[i])\n",
    "    return np.array(X_), np.array(y_)\n"
   ]
  },
  {
   "cell_type": "code",
   "execution_count": null,
   "metadata": {},
   "outputs": [],
   "source": [
    "from sklearn import datasets, linear_model, ensemble\n",
    "from sklearn.model_selection import cross_val_score\n",
    "\n",
    "def test(X_, y_, X, y2):\n",
    "    models_reg = {\"linreg\" : linear_model.LinearRegression(),\n",
    "                 \"ridge\": linear_model.Ridge(),\n",
    "                 \"huber\": linear_model.HuberRegressor(),\n",
    "                 \"gb\" : ensemble.GradientBoostingRegressor()}\n",
    "\n",
    "    X_train, y_train = X_, y_\n",
    "\n",
    "    for k, m in models_reg.items():\n",
    "        print(k, cross_val_score(m, X_train, y_train, cv=10).mean()) \n",
    "\n",
    "\n",
    "    models_clf = {\"logreg\" : linear_model.LogisticRegression(),\n",
    "                 \"ridge\": linear_model.RidgeClassifier(),\n",
    "                 \"rf\": ensemble.RandomForestClassifier(),\n",
    "                 \"sgd\": linear_model.SGDClassifier(),\n",
    "                 \"gb\" : ensemble.GradientBoostingClassifier()}\n",
    "\n",
    "    X_train, y_train = X, y2\n",
    "\n",
    "    for k, m in models_clf.items():\n",
    "        print(k, cross_val_score(m, X_train, y_train, cv=10).mean())\n",
    "\n",
    "\n",
    "test(X_, y_, X, y2)"
   ]
  },
  {
   "cell_type": "code",
   "execution_count": null,
   "metadata": {},
   "outputs": [],
   "source": [
    "def test2(X_train, y_train, X_test, y_test, reg=True):\n",
    "    models = {\"linreg\" : linear_model.LinearRegression(),\n",
    "                 \"ridge\": linear_model.Ridge(),\n",
    "                 \"huber\": linear_model.HuberRegressor(),\n",
    "                 \"rf\" : ensemble.RandomForestRegressor(),\n",
    "                 \"gb\" : ensemble.GradientBoostingRegressor()}\n",
    "    models_clf = {\"logreg\" : linear_model.LogisticRegression(),\n",
    "                 \"ridge\": linear_model.RidgeClassifier(),\n",
    "                 \"rf\": ensemble.RandomForestClassifier(),\n",
    "                 \"sgd\": linear_model.SGDClassifier(),\n",
    "                 \"gb\" : ensemble.GradientBoostingClassifier()}\n",
    "    \n",
    "    if not reg:\n",
    "        models = models_clf\n",
    "\n",
    "    for k, m in models.items():\n",
    "        m = m.fit(X_train, y_train)\n",
    "        print(k, m.score(X_test, y_test))\n",
    "        if (k == 'rf'):\n",
    "            print(m.feature_importances_)\n",
    "\n",
    "\n",
    "# Regression over counties with medals\n",
    "print(len(X))\n",
    "X_train, y_train, X_test, y_test = split([2006], True)\n",
    "X_train, y_train = oversample(X_train, y_train)\n",
    "X_test, y_test = oversample(X_test, y_test)\n",
    "print(len(X_train), len(y_train), len(X_test), len(y_test))\n",
    "test2(X_train, y_train, X_test, y_test, True)\n",
    "# classification over all (>0 medals)\n",
    "X_train, y_train, X_test, y_test = split([2006], False)\n",
    "test2(X_train, y_train, X_test, y_test, False)"
   ]
  },
  {
   "cell_type": "code",
   "execution_count": null,
   "metadata": {},
   "outputs": [],
   "source": [
    "winter.hist()"
   ]
  },
  {
   "cell_type": "code",
   "execution_count": null,
   "metadata": {},
   "outputs": [],
   "source": [
    "for year in YEARS:\n",
    "    print(year)\n",
    "    print(len(winter.loc[winter[year] > 0]) / len(winter))"
   ]
  },
  {
   "cell_type": "code",
   "execution_count": null,
   "metadata": {},
   "outputs": [],
   "source": [
    "X_train, y_train, X_test, y_test = split([2014], True)\n",
    "X_train, y_train = get_only_positive(X_train, y_train)\n",
    "X_test, y_test = get_only_positive(X_test, y_test)\n",
    "m = ensemble.GradientBoostingRegressor(n_estimators=30, max_depth=3).fit(X_train, y_train)\n",
    "y_predicted = m.predict(X_test)\n",
    "\n",
    "\n",
    "plt.scatter(y_test, y_predicted)\n",
    "plt.title('Scatter plot pythonspot.com')\n",
    "plt.xlabel('Actual')\n",
    "plt.ylabel('Predicted')\n",
    "plt.show()\n",
    "print(m.score(X_test, y_test))\n",
    "# only countries with medals"
   ]
  },
  {
   "cell_type": "code",
   "execution_count": null,
   "metadata": {},
   "outputs": [],
   "source": [
    "from sklearn.metrics import r2_score\n",
    "\n",
    "winter_old = get_w_r()\n",
    "def year_predict(year):\n",
    "    X_train, y_train, X_test, y_test = split([year], True)\n",
    "    X_train, y_train = oversample(X_train, y_train)\n",
    "    mR = linear_model.Ridge().fit(X_train, y_train)\n",
    "\n",
    "    X_train, y_train, _, _ = split([year], False)\n",
    "    X_train, y_train = oversample(X_train, y_train)\n",
    "\n",
    "    m = ensemble.RandomForestClassifier().fit(X_train, y_train)\n",
    "    y_predicted = m.predict_proba(X_test)\n",
    "\n",
    "\n",
    "    THRESHOLD = 0.40\n",
    "    y_pred = np.zeros(len(y_predicted))\n",
    "    for i in range(len(y_predicted)):\n",
    "        y_pred[i] = float(y_predicted[i][1] > THRESHOLD)\n",
    "        if y_pred[i] > 0:\n",
    "            y_pred[i] = mR.predict([X_test[i]])[0]\n",
    "\n",
    "    sum_mult = float(winter_old[year].sum())\n",
    "    plt.scatter(y_test*sum_mult, y_pred*sum_mult, alpha=0.3)\n",
    "    plt.title('Scatter plot '  + str(year))\n",
    "    plt.xlabel('Actual')\n",
    "    plt.ylabel('Predicted')\n",
    "    plt.show()\n",
    "    print(r2_score(y_test, y_pred))"
   ]
  },
  {
   "cell_type": "code",
   "execution_count": null,
   "metadata": {},
   "outputs": [],
   "source": [
    "year_predict([2006])"
   ]
  },
  {
   "cell_type": "code",
   "execution_count": null,
   "metadata": {},
   "outputs": [],
   "source": [
    "year_predict([2010])"
   ]
  },
  {
   "cell_type": "code",
   "execution_count": null,
   "metadata": {},
   "outputs": [],
   "source": [
    "year_predict([2014])"
   ]
  },
  {
   "cell_type": "code",
   "execution_count": null,
   "metadata": {},
   "outputs": [],
   "source": [
    "\n"
   ]
  },
  {
   "cell_type": "code",
   "execution_count": null,
   "metadata": {},
   "outputs": [],
   "source": []
  }
 ],
 "metadata": {
  "kernelspec": {
   "display_name": "Python 3",
   "language": "python",
   "name": "python3"
  },
  "language_info": {
   "codemirror_mode": {
    "name": "ipython",
    "version": 3
   },
   "file_extension": ".py",
   "mimetype": "text/x-python",
   "name": "python",
   "nbconvert_exporter": "python",
   "pygments_lexer": "ipython3",
   "version": "3.6.5"
  }
 },
 "nbformat": 4,
 "nbformat_minor": 2
}
